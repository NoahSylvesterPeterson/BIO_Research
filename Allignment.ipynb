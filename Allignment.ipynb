{
 "cells": [
  {
   "cell_type": "code",
   "execution_count": 128,
   "metadata": {},
   "outputs": [],
   "source": [
    "# imports\n",
    "from copy import deepcopy"
   ]
  },
  {
   "cell_type": "code",
   "execution_count": 129,
   "metadata": {},
   "outputs": [],
   "source": [
    "s1 = \"CACGTAT\"\n",
    "s2 = \"CGCA\"\n",
    "m = 1 # awarded for a match\n",
    "mm = 0 # awarded for mismatch\n",
    "gp = -1 # awarded for gap penalty\n",
    "\n"
   ]
  },
  {
   "cell_type": "code",
   "execution_count": 130,
   "metadata": {},
   "outputs": [
    {
     "name": "stdout",
     "output_type": "stream",
     "text": [
      "[(0, 0), (0, 1)]\n"
     ]
    }
   ],
   "source": [
    "def CreateMatrix(s1,s2,m,mm,gp):\n",
    "    oupt = []\n",
    "    oupt2 = deepcopy(oupt)\n",
    "    for r in range(len(s2)+1):\n",
    "        oupt.append([])\n",
    "        oupt2.append([])\n",
    "        for c in range(len(s1)+1):\n",
    "            #print()\n",
    "            #PrintMatrix(oupt)\n",
    "            if r == 0:\n",
    "                oupt[r].append((c)*-1)\n",
    "                oupt2[r].append((c)*-1)\n",
    "            elif c == 0:\n",
    "                oupt[r].append((r)*-1)\n",
    "                oupt2[r].append((r)*-1)\n",
    "            else:\n",
    "                # comput match or mismatch\n",
    "                if s1[c-1] == s2[r-1]:\n",
    "                    mmm = oupt[r-1][c-1]+m\n",
    "                else:\n",
    "                    mmm = oupt[r-1][c-1]\n",
    "                gs1 = oupt[r][c-1] -1 # compute for gap in s1\n",
    "                gs2 = oupt[r-1][c] -1 # compute for gap in s2\n",
    "                oupt[r].append(max([mmm,gs1,gs2]))\n",
    "                oupt2[r].append([mmm,gs1,gs2])\n",
    "    return((oupt,oupt2))\n",
    "def PrintMatrix(M):\n",
    "    for r in M:\n",
    "        print(\"\\t\".join(map(str,r)))\n",
    "\n",
    "def getCoord(M,c):\n",
    "    return(M[c[0]][c[1]])\n",
    "\n",
    "def getMaxs(lst):\n",
    "    \"\"\"Returns a list of the max values of a length three list\"\"\"\n",
    "    oupt = [(lst[0],0)]\n",
    "    for i in range(2):\n",
    "        if lst[i+1] > oupt[0][0]:\n",
    "            oupt = [(lst[i+1],i+1)]\n",
    "        elif lst[i+1] == oupt[0][0]:\n",
    "            oupt.append((lst[i+1],i+1))\n",
    "    return(oupt)\n",
    "\n",
    "\n",
    "    \n",
    "def Allignments(M,S1,S2):\n",
    "#allignments  = list of lists( [coordinates in matrix, current sequence 1, current sequence2] )\n",
    "    c0 = [len(M)-1, len(M[len(M)-1])-1]# coordinates of the far coorner\n",
    "    als   = [[c0,  \"\", \"\"]]\n",
    "    seqs = []# list to hold sequences\n",
    "    while len(als) > 0:\n",
    "        if als[0][0] == [0,0]:\n",
    "            [c,s1,s2] = als.pop(0)\n",
    "            seqs.append((s1[::-1],s2[::-1]))\n",
    "        else:\n",
    "            [c,s1,s2] = als.pop(0)\n",
    "            if c[1] == 0:\n",
    "                als.append([[c[0]-1,c[1]],s1+\"-\",s2+S2[c[0]-1]])\n",
    "            elif c[0] == 0:\n",
    "                als.append([[c[0],c[1]-1],s1+S1[c[1]-1],s2+\"-\"])\n",
    "            else:\n",
    "                lst = getCoord(M,c)\n",
    "                mxs = getMaxs(lst)\n",
    "                for mx in mxs:\n",
    "                    if mx[1] == 0:\n",
    "                        als.append([[c[0]-1,c[1]-1],s1+S1[c[1]-1],s2+S2[c[0]-1]])\n",
    "                    elif mx[1] == 1:\n",
    "                        als.append([[c[0],c[1]-1],s1+S1[c[1]-1],s2+\"-\"])\n",
    "                    elif mx[1] == 2:\n",
    "                        als.append([[c[0]-1,c[1]],s1+\"-\",s2+S2[c[0]-1]])\n",
    "    return(seqs)\n",
    "                \n",
    "                \n",
    "            \n",
    "\n",
    "    \n"
   ]
  },
  {
   "cell_type": "code",
   "execution_count": 131,
   "metadata": {},
   "outputs": [
    {
     "name": "stdout",
     "output_type": "stream",
     "text": [
      "0\t-1\t-2\t-3\t-4\t-5\t-6\t-7\n",
      "-1\t[1, -2, -2]\t[-1, 0, -3]\t[-1, -1, -4]\t[-3, -2, -5]\t[-4, -3, -6]\t[-5, -4, -7]\t[-6, -5, -8]\n",
      "-2\t[-1, -3, 0]\t[1, -1, -1]\t[0, 0, -2]\t[0, -1, -3]\t[-2, -1, -4]\t[-3, -2, -5]\t[-4, -3, -6]\n",
      "-3\t[-1, -4, -1]\t[0, -2, 0]\t[2, -1, -1]\t[0, 1, -1]\t[0, 0, -2]\t[-1, -1, -3]\t[-2, -2, -4]\n",
      "-4\t[-3, -5, -2]\t[0, -3, -1]\t[0, -1, 1]\t[2, 0, 0]\t[1, 1, -1]\t[1, 0, -2]\t[-1, 0, -3]\n",
      "[4, 7]\n",
      "[4, 6]\n",
      "[3, 5]\n",
      "[2, 4]\n",
      "[3, 4]\n",
      "[1, 3]\n",
      "[3, 3]\n",
      "[1, 2]\n",
      "[2, 2]\n",
      "[1, 1]\n",
      "[1, 1]\n",
      "\n",
      "CACGTAT\n",
      "--CGCA-\n",
      "\n",
      "\n",
      "CACGTAT\n",
      "C--GCA-\n",
      "\n",
      "\n",
      "CACGTAT\n",
      "CGC--A-\n",
      "\n"
     ]
    }
   ],
   "source": [
    "(M,M1) = CreateMatrix(s1,s2,m,mm,gp)\n",
    "PrintMatrix(M1)\n",
    "\n",
    "seqs  = Allignments(M1,s1,s2)\n",
    "for seq in seqs:\n",
    "    print()\n",
    "    print(seq[0])\n",
    "    print(seq[1])\n",
    "    print()"
   ]
  }
 ],
 "metadata": {
  "kernelspec": {
   "display_name": "Python 3",
   "language": "python",
   "name": "python3"
  },
  "language_info": {
   "codemirror_mode": {
    "name": "ipython",
    "version": 3
   },
   "file_extension": ".py",
   "mimetype": "text/x-python",
   "name": "python",
   "nbconvert_exporter": "python",
   "pygments_lexer": "ipython3",
   "version": "3.8.10"
  },
  "orig_nbformat": 4,
  "vscode": {
   "interpreter": {
    "hash": "916dbcbb3f70747c44a77c7bcd40155683ae19c65e1c03b4aa3499c5328201f1"
   }
  }
 },
 "nbformat": 4,
 "nbformat_minor": 2
}
